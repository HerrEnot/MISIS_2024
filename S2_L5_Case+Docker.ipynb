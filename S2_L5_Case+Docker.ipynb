{
 "cells": [
  {
   "cell_type": "markdown",
   "id": "56262d63-a148-4753-9ea5-d90e0d742074",
   "metadata": {},
   "source": [
    "# От Идеи к Prod`у"
   ]
  },
  {
   "cell_type": "markdown",
   "id": "7aefbe24-0957-4acb-ba21-0bcd39fa7f27",
   "metadata": {
    "tags": []
   },
   "source": [
    "## 0. Введение и Подготовка\n"
   ]
  },
  {
   "cell_type": "markdown",
   "id": "4298a974-6f49-49d9-96a3-3bec4eeb9591",
   "metadata": {},
   "source": [
    "*   **Цели занятия:** Понять и пройти основные этапы создания и развертывания простого DS-решения.\n",
    "*   **Бизнес-кейс:** Предсказание стоимости поездки на такси.\n",
    "*   **Инструменты:** Обзор используемых технологий (Python, SQLite, Pandas, Scikit-learn, FastAPI, Streamlit, Docker, Git, WSL2).\n",
    "*   **План работы:** Обзор шагов от данных до работающего API на сервере."
   ]
  },
  {
   "cell_type": "markdown",
   "id": "9d024971-881a-4f02-838d-55fdcc8f4640",
   "metadata": {
    "tags": []
   },
   "source": [
    "### 0.1 Настройка Рабочего Окружения"
   ]
  },
  {
   "cell_type": "code",
   "execution_count": null,
   "id": "2b30466a-7c7b-43e7-872e-a7ec81dc66ae",
   "metadata": {},
   "outputs": [],
   "source": [
    "Создадим папку для проекта и настроим виртуальное окружение:\n"
   ]
  },
  {
   "cell_type": "markdown",
   "id": "6888c9ce-acdf-4382-b866-45da74d42eef",
   "metadata": {},
   "source": [
    "```bash\n",
    "# Создаем папку проекта\n",
    "mkdir taxi_predictor_project\n",
    "cd taxi_predictor_project"
   ]
  },
  {
   "cell_type": "code",
   "execution_count": null,
   "id": "c7dd0a1e-76fb-4237-9802-9f3ea6dc52ee",
   "metadata": {},
   "outputs": [],
   "source": [
    "# Инициализируем Git репозиторий\n",
    "git init"
   ]
  },
  {
   "cell_type": "code",
   "execution_count": null,
   "id": "a1bf4c23-d969-424e-addc-6e41731bf7f4",
   "metadata": {},
   "outputs": [],
   "source": [
    "# Создаем виртуальное окружение\n",
    "python3 -m venv .venv"
   ]
  },
  {
   "cell_type": "code",
   "execution_count": null,
   "id": "ad9345e2-0e6b-4e1e-8e4f-021a691b0fc1",
   "metadata": {},
   "outputs": [],
   "source": [
    "# Активируем окружение\n",
    "source .venv/bin/activate \n",
    "# Для Windows CMD/PowerShell: .venv\\Scripts\\activate"
   ]
  },
  {
   "cell_type": "code",
   "execution_count": null,
   "id": "a92930a1-07c3-4673-b2cc-2b7bbe7dd3fa",
   "metadata": {},
   "outputs": [],
   "source": [
    "# Создаем файл зависимостей (пока пустой или с первыми пакетами)\n",
    "touch requirements.txt\n",
    "echo \"jupyterlab\" >> requirements.txt \n",
    "echo \"pandas\" >> requirements.txt\n",
    "echo \"scikit-learn\" >> requirements.txt\n",
    "echo \"joblib\" >> requirements.txt # Или pickle, если предпочитаешь\n",
    "# Добавим остальные позже по мере необходимости\n",
    "cat requirements.txt"
   ]
  },
  {
   "cell_type": "code",
   "execution_count": null,
   "id": "fd1f6b96-dce0-4126-becc-adeb145a9d14",
   "metadata": {},
   "outputs": [],
   "source": [
    "# Устанавливаем зависимости\n",
    "pip install -r requirements.txt"
   ]
  },
  {
   "cell_type": "code",
   "execution_count": null,
   "id": "4bac7bb1-8c53-4134-ac49-0c9796cea477",
   "metadata": {},
   "outputs": [],
   "source": [
    "# Добавим .gitignore\n",
    "echo \".venv/\" >> .gitignore\n",
    "echo \"__pycache__/\" >> .gitignore\n",
    "echo \"*.db\" >> .gitignore # Обычно БД не хранят в гите, но для демо можно закомментить\n",
    "echo \"*.joblib\" >> .gitignore # Модель тоже часто хранят отдельно (LFS или облако), но для демо можно закомментить\n",
    "echo \"*.pkl\" >> .gitignore\n",
    "echo \".ipynb_checkpoints/\" >> .gitignore\n",
    "echo \".DS_Store\" >> .gitignore"
   ]
  },
  {
   "cell_type": "code",
   "execution_count": null,
   "id": "57c7dcc4-137f-4d88-bbb3-03d5b062cb42",
   "metadata": {},
   "outputs": [],
   "source": [
    "# Первый коммит\n",
    "git add .\n",
    "git commit -m \"Initial project setup with venv and gitignore\"\n",
    "\n",
    "# Запускаем Jupyter Lab (или Notebook)\n",
    "jupyter lab "
   ]
  },
  {
   "cell_type": "code",
   "execution_count": null,
   "id": "0e437b66-65e5-4890-b216-39c38ed2e83c",
   "metadata": {},
   "outputs": [],
   "source": []
  },
  {
   "cell_type": "markdown",
   "id": "d618377e-a620-48eb-81a8-1cb6bd813993",
   "metadata": {},
   "source": [
    "## 1. Подготовка Данных: Создание и Наполнение БД\n"
   ]
  },
  {
   "cell_type": "markdown",
   "id": "10828bb9-7475-4e9a-a762-f44ca7630c46",
   "metadata": {},
   "source": [
    "Задача: Превратить \"сырые\" данные (CSV) в структурированную базу данных SQLite."
   ]
  },
  {
   "cell_type": "markdown",
   "id": "7343ae39-cbce-4f24-af22-58a6e42e8bce",
   "metadata": {},
   "source": [
    "**Действия:**\n"
   ]
  },
  {
   "cell_type": "markdown",
   "id": "d8b73e99-54d5-440b-b0a2-b868612defd1",
   "metadata": {},
   "source": [
    "- Прочитать исходный CSV-файл (raw_taxi_data.csv) с помощью Pandas.\n",
    "- Создать соединение с SQLite базой данных (taxi_data.db).\n",
    "- Записать данные из DataFrame в таблицу rides в SQLite.\n",
    "- Проверить, что данные успешно записались (например, прочитать несколько строк из БД)."
   ]
  },
  {
   "cell_type": "code",
   "execution_count": null,
   "id": "4afeb574-e63e-42e4-ba4e-0199e663c9bf",
   "metadata": {},
   "outputs": [],
   "source": [
    "import pandas as pd\n",
    "import sqlite3\n",
    "\n",
    "# Убедимся, что у нас есть сырой CSV файл (например, создадим его)\n",
    "# Или скачаем/скопируем в папку проекта\n",
    "# Допустим, он называется 'raw_taxi_data.csv'\n",
    "\n",
    "try:\n",
    "    df_raw = pd.read_csv('~/work/taxi_predictor_project/raw_taxi_data.csv')\n",
    "    print(\"CSV файл успешно прочитан.\")\n",
    "\n",
    "    # Создаем/подключаемся к БД\n",
    "    db_name = 'taxi_data.db'\n",
    "    conn = sqlite3.connect(db_name)\n",
    "    cursor = conn.cursor()\n",
    "    print(f\"Подключились к БД {db_name}\")\n",
    "\n",
    "    # Записываем DataFrame в таблицу 'rides'\n",
    "    # if_exists='replace' перезапишет таблицу, если она уже есть. \n",
    "    # Используйте 'append', если нужно добавить данные.\n",
    "    df_raw.to_sql('rides', conn, if_exists='replace', index=False)\n",
    "    print(\"Данные записаны в таблицу 'rides'.\")\n",
    "\n",
    "    # Проверка: прочитаем первые 5 строк из БД\n",
    "    df_from_db = pd.read_sql('SELECT * FROM rides LIMIT 5', conn)\n",
    "    print(\"\\nПервые 5 строк из БД:\")\n",
    "    print(df_from_db)\n",
    "\n",
    "    # Закрываем соединение\n",
    "    conn.close()\n",
    "    print(\"\\nСоединение с БД закрыто.\")\n",
    "\n",
    "except FileNotFoundError:\n",
    "    print(\"Ошибка: Файл 'raw_taxi_data.csv' не найден. Убедитесь, что он в папке проекта.\")\n",
    "except Exception as e:\n",
    "    print(f\"Произошла ошибка: {e}\")"
   ]
  },
  {
   "cell_type": "markdown",
   "id": "55524484-1a84-49eb-ac07-f8f12a071c52",
   "metadata": {
    "tags": []
   },
   "source": [
    "# 2. Анализ и Моделирование\n",
    "\n",
    "*   **Задача:** Провести быстрый анализ данных из БД, подготовить их и обучить модель регрессии для предсказания `price`.\n",
    "*   **Действия:**\n",
    "    *   Подключиться к `taxi_data.db`.\n",
    "    *   Загрузить данные из таблицы `rides` в Pandas DataFrame.\n",
    "    *   Провести EDA: описательные статистики, визуализации (опционально).\n",
    "    *   Предобработка данных:\n",
    "        *   Обработка категориальных признаков (`time_of_day`) - One-Hot Encoding.\n",
    "        *   Выделение признаков (X) и целевой переменной (y).\n",
    "    *   Разделение данных на обучающую и тестовую выборки.\n",
    "    *   Выбор и обучение простой модели (Линейная Регрессия).\n",
    "    *   Оценка модели на тестовой выборке (MAE).\n",
    "    *   **Важно:** Сохранение обученной модели и препроцессора в файлы `.joblib`.\n",
    "\n",
    "## 2.1 Загрузка и Первичный Анализ Данных"
   ]
  },
  {
   "cell_type": "code",
   "execution_count": null,
   "id": "e6ac184c-dd85-4c6e-ad3d-e00ba16d154b",
   "metadata": {},
   "outputs": [],
   "source": [
    "# Импортируем необходимые библиотеки\n",
    "import pandas as pd\n",
    "import sqlite3\n",
    "import joblib # Для сохранения/загрузки объектов Python (модели, препроцессоры)\n",
    "\n",
    "# Устанавливаем опцию для отображения всех столбцов DataFrame\n",
    "pd.set_option('display.max_columns', None) "
   ]
  },
  {
   "cell_type": "code",
   "execution_count": null,
   "id": "93963675-6c52-40de-810d-af35e0a17695",
   "metadata": {},
   "outputs": [],
   "source": [
    "# --- Загрузка данных из SQLite ---\n",
    "db_name = 'taxi_data.db' # Убедитесь, что файл БД в той же папке или укажите путь\n",
    "\n",
    "try:\n",
    "    conn = sqlite3.connect(db_name)\n",
    "    # Загружаем всю таблицу 'rides' в DataFrame\n",
    "    df = pd.read_sql('SELECT * FROM rides', conn)\n",
    "    conn.close()\n",
    "    print(f\"Данные успешно загружены из таблицы 'rides' базы данных '{db_name}'.\")\n",
    "    print(f\"Загружено строк: {len(df)}\")\n",
    "except Exception as e:\n",
    "    print(f\"Ошибка при подключении или чтении из БД '{db_name}': {e}\")\n",
    "    # В реальном проекте здесь может быть более сложная обработка ошибки\n",
    "    # Для лекции можно остановить выполнение, если данные не загрузились\n",
    "    raise SystemExit(\"Не удалось загрузить данные, дальнейшее выполнение невозможно.\")\n"
   ]
  },
  {
   "cell_type": "code",
   "execution_count": null,
   "id": "828c5ae7-0762-42c9-94fe-f07896fd88a3",
   "metadata": {},
   "outputs": [],
   "source": [
    "# --- Быстрый осмотр данных (EDA) ---\n",
    "\n",
    "print(\"\\nПервые 5 строк данных:\")\n",
    "display(df.head()) # Используем display в Jupyter для красивого вывода\n",
    "\n",
    "print(\"\\nИнформация о типах данных и пропусках:\")\n",
    "df.info()\n",
    "\n",
    "print(\"\\nОписательные статистики для числовых признаков:\")\n",
    "display(df.describe().round(2))\n",
    "\n",
    "print(\"\\nОписательные статистики для категориальных признаков:\")\n",
    "display(df.describe(include=['object']))\n",
    "\n",
    "print(\"\\nПроверка на наличие явных пропусков:\")\n",
    "print(df.isnull().sum())"
   ]
  },
  {
   "cell_type": "code",
   "execution_count": null,
   "id": "f40b6e61-7728-4775-878a-2885304ccf7a",
   "metadata": {},
   "outputs": [],
   "source": [
    "## 2.2 Предобработка Данных\n",
    "\n",
    "Нам нужно преобразовать категориальный признак `time_of_day` в числовой формат, который поймет модель. Будем использовать One-Hot Encoding."
   ]
  },
  {
   "cell_type": "code",
   "execution_count": null,
   "id": "9f50cdc4-e999-4c5d-a31e-bcf8cff5b46a",
   "metadata": {},
   "outputs": [],
   "source": [
    "from sklearn.model_selection import train_test_split\n",
    "from sklearn.preprocessing import OneHotEncoder\n",
    "from sklearn.compose import ColumnTransformer # Для применения разных трансформаций к разным столбцам\n",
    "\n",
    "# --- Определение признаков (X) и целевой переменной (y) ---\n",
    "target = 'price'\n",
    "# Выбираем признаки, которые будем использовать для моделирования\n",
    "# Исключаем целевую переменную 'price'\n",
    "features = df.columns.drop(target) \n",
    "\n",
    "X = df[features]\n",
    "y = df[target]\n",
    "\n",
    "print(\"Признаки (X):\")\n",
    "display(X.head(3))\n",
    "print(\"\\nЦелевая переменная (y):\")\n",
    "display(y.head(3))\n",
    "\n",
    "# --- Определение типов признаков для препроцессинга ---\n",
    "categorical_features = ['time_of_day'] \n",
    "# Все остальные признаки в нашем случае - числовые или бинарные (weekend), \n",
    "# которые можно рассматривать как числовые для линейной модели.\n",
    "# Если бы были другие числовые признаки, требующие масштабирования,\n",
    "# их бы выделили отдельно (например, StandardScaler).\n",
    "numerical_features = ['distance_km', 'weekend', 'passengers'] \n",
    "\n",
    "print(f\"\\nКатегориальные признаки: {categorical_features}\")\n",
    "print(f\"Числовые признаки: {numerical_features}\")"
   ]
  },
  {
   "cell_type": "code",
   "execution_count": null,
   "id": "83ad30c8-7def-44bc-a752-748bf0ea3d30",
   "metadata": {},
   "outputs": [],
   "source": [
    "# --- Создание препроцессора ---\n",
    "# ColumnTransformer позволяет применить разные шаги обработки к разным столбцам\n",
    "\n",
    "# Создаем экземпляр OneHotEncoder. \n",
    "# handle_unknown='ignore' важен: если в новых данных (при предсказании) \n",
    "# встретится категория, которой не было в обучении, он не выдаст ошибку, \n",
    "# а просто создаст для нее столбец из нулей.\n",
    "# sparse=False (устарело, используйте sparse_output=False в новых версиях): \n",
    "# чтобы результат был плотным numpy массивом, а не разреженной матрицей (удобнее для просмотра)\n",
    "ohe_encoder = OneHotEncoder(handle_unknown='ignore', sparse_output=False) \n",
    "\n",
    "# Создаем ColumnTransformer:\n",
    "# 1. 'cat': имя шага\n",
    "# 2. OneHotEncoder(): трансформер, который применяем\n",
    "# 3. categorical_features: список столбцов, к которым его применяем\n",
    "# remainder='passthrough': означает, что все остальные столбцы (не указанные в transformers) \n",
    "# должны остаться без изменений и добавиться к результату. В нашем случае это numerical_features.\n",
    "preprocessor = ColumnTransformer(\n",
    "    transformers=[\n",
    "        ('cat', ohe_encoder, categorical_features)\n",
    "    ],\n",
    "    remainder='passthrough' \n",
    ")\n",
    "\n",
    "print(\"\\nПрепроцессор готов.\")\n",
    "# Мы его пока не применяем, он будет обучен ('fit') на обучающей выборке."
   ]
  },
  {
   "cell_type": "markdown",
   "id": "a7da0437-280a-418a-bc26-bf277a1971e2",
   "metadata": {},
   "source": [
    "## 2.3 Разделение Данных на Обучающую и Тестовую Выборки\n",
    "\n",
    "Разделим наши данные, чтобы обучить модель на одной части (train), а проверить ее качество на другой, которую модель еще не видела (test)."
   ]
  },
  {
   "cell_type": "code",
   "execution_count": null,
   "id": "ee61bf50-4942-42aa-ac71-07ff91b1223c",
   "metadata": {},
   "outputs": [],
   "source": [
    "# Разделяем X и y на обучающую (80%) и тестовую (20%) выборки\n",
    "# random_state обеспечивает воспроизводимость разделения: при каждом запуске \n",
    "# с тем же random_state разделение будет одинаковым.\n",
    "X_train, X_test, y_train, y_test = train_test_split(X, y, test_size=0.2, random_state=42)\n",
    "\n",
    "print(f\"Размер обучающей выборки X_train: {X_train.shape}\")\n",
    "print(f\"Размер тестовой выборки X_test: {X_test.shape}\")\n",
    "print(f\"Размер обучающей выборки y_train: {y_train.shape}\")\n",
    "print(f\"Размер тестовой выборки y_test: {y_test.shape}\")"
   ]
  },
  {
   "cell_type": "markdown",
   "id": "56898d08-c8f1-4ef2-b811-09cdf1dc3111",
   "metadata": {},
   "source": [
    "## 2.4 Обучение Модели\n",
    "\n",
    "Теперь обучим препроцессор на обучающих данных и применим его для преобразования и обучающей, и тестовой выборок. Затем на преобразованных обучающих данных обучим модель линейной регрессии."
   ]
  },
  {
   "cell_type": "code",
   "execution_count": null,
   "id": "d9d82dfc-6eeb-436e-963b-f9e173175852",
   "metadata": {},
   "outputs": [],
   "source": [
    "from sklearn.linear_model import LinearRegression\n",
    "from sklearn.metrics import mean_absolute_error, mean_squared_error, r2_score\n",
    "\n",
    "# --- Обучение препроцессора и трансформация данных ---\n",
    "\n",
    "# Обучаем препроцессор ТОЛЬКО на обучающих данных (X_train)\n",
    "# Метод fit_transform одновременно обучает (fit) и преобразует (transform) данные\n",
    "print(\"Обучаем препроцессор и трансформируем X_train...\")\n",
    "X_train_processed = preprocessor.fit_transform(X_train)\n",
    "print(\"X_train успешно преобразован.\")\n",
    "\n",
    "# Применяем уже ОБУЧЕННЫЙ препроцессор к тестовым данным (X_test)\n",
    "# Используем только метод transform, НЕ fit_transform!\n",
    "print(\"\\nТрансформируем X_test...\")\n",
    "X_test_processed = preprocessor.transform(X_test)\n",
    "print(\"X_test успешно преобразован.\")\n",
    "\n",
    "# Посмотрим на результат трансформации\n",
    "# Имена столбцов после OHE могут быть не очень читаемыми по умолчанию\n",
    "# Можно получить имена с помощью get_feature_names_out() у препроцессора\n",
    "feature_names_out = preprocessor.get_feature_names_out()\n",
    "print(f\"\\nИмена признаков после препроцессинга: {feature_names_out}\")\n",
    "\n",
    "print(\"\\nПример обработанных данных X_train_processed (первые 3 строки):\")\n",
    "# Преобразуем в DataFrame для наглядности\n",
    "X_train_processed_df = pd.DataFrame(X_train_processed, columns=feature_names_out)\n",
    "display(X_train_processed_df.head(3))"
   ]
  },
  {
   "cell_type": "code",
   "execution_count": null,
   "id": "f653e08e-4219-4973-b79e-c7b24e46f22a",
   "metadata": {},
   "outputs": [],
   "source": [
    "# --- Обучение модели ---\n",
    "\n",
    "# Создаем экземпляр модели Линейной Регрессии\n",
    "model = LinearRegression()\n",
    "\n",
    "# Обучаем модель на обработанных обучающих данных\n",
    "print(\"\\nОбучаем модель LinearRegression...\")\n",
    "model.fit(X_train_processed, y_train)\n",
    "print(\"Модель успешно обучена.\")"
   ]
  },
  {
   "cell_type": "code",
   "execution_count": null,
   "id": "1aab69c8-f6c1-4049-9339-62c469fb9339",
   "metadata": {},
   "outputs": [],
   "source": [
    "## 2.5 Оценка Качества Модели\n",
    "\n",
    "Оценим, насколько хорошо наша модель предсказывает цену на тестовых данных, которые она не видела во время обучения. Используем метрику MAE (Mean Absolute Error) - средняя абсолютная ошибка. Она показывает, на сколько рублей в среднем ошибается наша модель."
   ]
  },
  {
   "cell_type": "code",
   "execution_count": null,
   "id": "103f13fc-a8b7-440d-99d0-caf46e2778eb",
   "metadata": {},
   "outputs": [],
   "source": [
    "# --- Предсказание на тестовой выборке ---\n",
    "print(\"\\nДелаем предсказания на тестовой выборке...\")\n",
    "y_pred = model.predict(X_test_processed)\n",
    "print(\"Предсказания сделаны.\")\n",
    "\n",
    "# --- Расчет метрик качества ---\n",
    "mae = mean_absolute_error(y_test, y_pred)\n",
    "mse = mean_squared_error(y_test, y_pred)\n",
    "rmse = mean_squared_error(y_test, y_pred, squared=False) # Корень из MSE\n",
    "r2 = r2_score(y_test, y_pred)\n",
    "\n",
    "print(\"\\n--- Метрики Качества Модели на Тестовой Выборке ---\")\n",
    "print(f\"Средняя Абсолютная Ошибка (MAE): {mae:.2f} руб.\")\n",
    "print(f\"Среднеквадратичная Ошибка (MSE): {mse:.2f}\")\n",
    "print(f\"Корень из Среднеквадратичной Ошибки (RMSE): {rmse:.2f} руб.\")\n",
    "print(f\"Коэффициент Детерминации (R²): {r2:.3f}\") # Насколько хорошо модель объясняет дисперсию\n",
    "\n",
    "# R² близкий к 1 означает хорошее качество подгонки.\n",
    "# MAE и RMSE показывают среднюю ошибку в единицах целевой переменной (рублях)."
   ]
  },
  {
   "cell_type": "code",
   "execution_count": null,
   "id": "1492ab28-7751-4bdd-ba28-aa3a42864634",
   "metadata": {},
   "outputs": [],
   "source": [
    "## 2.6 Сохранение Модели и Препроцессора\n",
    "\n",
    "Чтобы использовать нашу обученную модель и препроцессор в других частях приложения (например, в API), нам нужно сохранить их в файлы. Будем использовать библиотеку `joblib`."
   ]
  },
  {
   "cell_type": "code",
   "execution_count": null,
   "id": "aff2479c-fbd9-4ce1-9946-f20690f1de0c",
   "metadata": {},
   "outputs": [],
   "source": [
    "# --- Сохранение артефактов ---\n",
    "\n",
    "model_filename = 'taxi_price_model.joblib'\n",
    "preprocessor_filename = 'taxi_preprocessor.joblib'\n",
    "\n",
    "try:\n",
    "    joblib.dump(model, model_filename)\n",
    "    joblib.dump(preprocessor, preprocessor_filename)\n",
    "    print(f\"\\nМодель успешно сохранена в файл: {model_filename}\")\n",
    "    print(f\"Препроцессор успешно сохранен в файл: {preprocessor_filename}\")\n",
    "except Exception as e:\n",
    "    print(f\"\\nОшибка при сохранении файлов модели/препроцессора: {e}\")\n",
    "\n",
    "\n",
    "# --- Проверка загрузки (опционально, но полезно) ---\n",
    "try:\n",
    "    loaded_model = joblib.load(model_filename)\n",
    "    loaded_preprocessor = joblib.load(preprocessor_filename)\n",
    "    print(\"\\nМодель и препроцессор успешно загружены для проверки.\")\n",
    "    \n",
    "    # Можно даже сделать пробное предсказание на первой строке тестовых данных\n",
    "    sample_prediction = loaded_model.predict(loaded_preprocessor.transform(X_test.iloc[[0]]))\n",
    "    print(f\"Пробное предсказание загруженной моделью: {sample_prediction[0]:.2f}\")\n",
    "    print(f\"Реальное значение для этой строки: {y_test.iloc[0]:.2f}\")\n",
    "except Exception as e:\n",
    "    print(f\"\\nОшибка при загрузке или проверке файлов: {e}\")"
   ]
  },
  {
   "cell_type": "markdown",
   "id": "ef917f52-4599-4fa0-bd43-7ac337e44585",
   "metadata": {},
   "source": [
    "Отлично! Мы проанализировали данные, подготовили их, обучили модель линейной регрессии, оценили её качество и сохранили необходимые артефакты (модель и препроцессор) для дальнейшего использования.\n",
    "\n",
    "Теперь можно закоммитить изменения в Git."
   ]
  },
  {
   "cell_type": "code",
   "execution_count": null,
   "id": "8a2d757a-09c0-4cf3-b2c4-38518e0a8c73",
   "metadata": {},
   "outputs": [],
   "source": [
    "# Добавляем ноутбук и артефакты модели/препроцессора в Git\n",
    "# Если вы решили НЕ версионировать .joblib файлы (например, добавили их в .gitignore), \n",
    "# то их добавлять не нужно.\n",
    "git add 2_Model_Training.ipynb taxi_price_model.joblib taxi_preprocessor.joblib \n",
    "\n",
    "# Коммитим изменения\n",
    "git commit -m \"Feat: Train linear regression model and save artifacts\"\n",
    "\n",
    "# Проверяем статус\n",
    "git status "
   ]
  },
  {
   "cell_type": "markdown",
   "id": "d3ce54d3-7e67-415d-a668-bae0bfb7e442",
   "metadata": {
    "tags": []
   },
   "source": [
    "# 3. Создание API с FastAPI\n",
    "\n",
    "*   **Задача:** Создать API (Application Programming Interface), которое будет загружать нашу обученную модель и препроцессор, принимать данные о поездке через HTTP-запрос и возвращать предсказанную стоимость. Мы будем использовать фреймворк FastAPI, который отлично подходит для создания быстрых и современных API на Python.\n",
    "*   **Действия:**\n",
    "    *   Установить необходимые библиотеки (`fastapi`, `uvicorn`).\n",
    "    *   Создать структуру файлов для API.\n",
    "    *   Написать код FastAPI приложения (`api/main.py`):\n",
    "        *   Загрузить модель и препроцессор.\n",
    "        *   Определить модель входных данных с помощью Pydantic.\n",
    "        *   Создать эндпоинт `/predict` для предсказаний.\n",
    "    *   Запустить API локально с помощью Uvicorn.\n",
    "    *   Протестировать API.\n",
    "\n",
    "## 3.1 Установка Зависимостей\n",
    "\n",
    "Добавим FastAPI и Uvicorn (ASGI-сервер для запуска FastAPI) в наше окружение. Pydantic (для валидации данных) обычно устанавливается как зависимость FastAPI. `python-multipart` может понадобиться для обработки данных форм, но для нашего JSON API он строго не обязателен, но часто полезен."
   ]
  },
  {
   "cell_type": "code",
   "execution_count": null,
   "id": "0ce3f49a-5ac8-481d-b3d1-f7d51b7630cb",
   "metadata": {},
   "outputs": [],
   "source": [
    "# Добавляем зависимости в файл requirements.txt\n",
    "echo \"fastapi\" >> requirements.txt\n",
    "# uvicorn[standard] включает доп. зависимости для лучшей производительности и поддержки\n",
    "echo \"uvicorn[standard]\" >> requirements.txt \n",
    "echo \"python-multipart\" >> requirements.txt # На всякий случай для форм\n",
    "\n",
    "# Устанавливаем зависимости из обновленного файла\n",
    "pip install -r requirements.txt\n",
    "\n",
    "# Проверим, что установилось\n",
    "pip list | grep fastapi\n",
    "pip list | grep uvicorn"
   ]
  },
  {
   "cell_type": "markdown",
   "id": "dc2305cd-7036-4afa-9adf-3ff0d934caa6",
   "metadata": {},
   "source": [
    "## 3.2 Структура Папок и Файлов\n",
    "\n",
    "Для организации кода создадим подпапку `api` и в ней основной файл нашего API `main.py`. Также создадим пустой файл `__init__.py` в папке `api`, чтобы Python рассматривал эту папку как пакет."
   ]
  },
  {
   "cell_type": "code",
   "execution_count": null,
   "id": "bf809656-dbd8-4f95-96d6-a14cfc5b1bbb",
   "metadata": {},
   "outputs": [],
   "source": [
    "# Создаем папку api\n",
    "mkdir api\n",
    "\n",
    "# Создаем пустой файл __init__.py внутри api\n",
    "touch api/__init__.py\n",
    "\n",
    "# Создаем основной файл API (пока пустой)\n",
    "touch api/main.py\n",
    "\n",
    "# Проверим структуру\n",
    "ls -l api "
   ]
  },
  {
   "cell_type": "markdown",
   "id": "764c2f39-87ec-4989-81e0-0bd89fcbea1a",
   "metadata": {},
   "source": [
    "## 3.3 Написание Кода API (`api/main.py`)\n",
    "\n",
    "Теперь напишем код для нашего API. Мы импортируем нужные библиотеки, загрузим модель и препроцессор, определим формат входных данных и создадим эндпоинт `/predict`.\n",
    "\n",
    "**Важно:** Обратите внимание на пути к файлам модели (`.joblib`). Они должны быть указаны *относительно места запуска скрипта*. Когда мы будем запускать `uvicorn` из корня проекта командой `uvicorn api.main:app ...`, рабочая директория будет корень проекта, поэтому пути к модели и препроцессору, лежащим в корне, будут `taxi_price_model.joblib` и `taxi_preprocessor.joblib`. Позже, при упаковке в Docker, мы скопируем эти файлы внутрь контейнера, и пути нужно будет проверить/скорректировать в `Dockerfile` и/или здесь."
   ]
  },
  {
   "cell_type": "code",
   "execution_count": null,
   "id": "4e384a50-f7fa-43f9-87df-7af6e504fec4",
   "metadata": {},
   "outputs": [],
   "source": [
    "# Содержимое файла api/main.py\n",
    "# Скопируйте этот код и вставьте в файл api/main.py\n",
    "\n",
    "from fastapi import FastAPI, HTTPException\n",
    "import joblib\n",
    "import pandas as pd\n",
    "from pydantic import BaseModel, Field # Pydantic для валидации данных\n",
    "import os # Для проверки существования файлов\n",
    "\n",
    "# --- Модель входных данных Pydantic ---\n",
    "# Описывает структуру JSON, который мы ожидаем на входе эндпоинта /predict\n",
    "# Добавляем Field для примеров в документации Swagger\n",
    "class TaxiRide(BaseModel):\n",
    "    distance_km: float = Field(..., example=10.5)\n",
    "    time_of_day: str = Field(..., example=\"Вечер\") # \"Утро\", \"День\", \"Вечер\", \"Ночь\"\n",
    "    weekend: int = Field(..., example=0, ge=0, le=1) # Добавим валидацию: 0 или 1\n",
    "    passengers: int = Field(..., example=1, ge=1, le=4) # Валидация: от 1 до 4\n",
    "\n",
    "    # Добавим конфигурацию для примера в Swagger UI\n",
    "    class Config:\n",
    "        schema_extra = {\n",
    "            \"example\": {\n",
    "                \"distance_km\": 12.5,\n",
    "                \"time_of_day\": \"Ночь\",\n",
    "                \"weekend\": 1,\n",
    "                \"passengers\": 2\n",
    "            }\n",
    "        }\n",
    "\n",
    "# --- Модель ответа Pydantic ---\n",
    "class PredictionOut(BaseModel):\n",
    "    predicted_price: float\n",
    "\n",
    "# --- Загрузка модели и препроцессора ---\n",
    "# Пути указываем относительно корня проекта, откуда будет запускаться uvicorn\n",
    "model_path = 'taxi_price_model.joblib'\n",
    "preprocessor_path = 'taxi_preprocessor.joblib'\n",
    "\n",
    "# Глобальные переменные для модели и препроцессора\n",
    "model = None\n",
    "preprocessor = None\n",
    "\n",
    "# Функция для загрузки артефактов при старте API (лучше, чем загружать при каждом запросе)\n",
    "def load_artifacts():\n",
    "    global model, preprocessor\n",
    "    print(\"Попытка загрузки артефактов модели...\")\n",
    "    \n",
    "    if not os.path.exists(model_path):\n",
    "        print(f\"Ошибка: Файл модели не найден по пути: {model_path}\")\n",
    "        raise FileNotFoundError(f\"Файл модели не найден: {model_path}\")\n",
    "        \n",
    "    if not os.path.exists(preprocessor_path):\n",
    "        print(f\"Ошибка: Файл препроцессора не найден по пути: {preprocessor_path}\")\n",
    "        raise FileNotFoundError(f\"Файл препроцессора не найден: {preprocessor_path}\")\n",
    "\n",
    "    try:\n",
    "        model = joblib.load(model_path)\n",
    "        preprocessor = joblib.load(preprocessor_path)\n",
    "        print(\"Модель и препроцессор успешно загружены.\")\n",
    "    except Exception as e:\n",
    "        print(f\"Ошибка при загрузке артефактов: {e}\")\n",
    "        # Если не удалось загрузить, приложение не сможет работать корректно\n",
    "        raise RuntimeError(f\"Не удалось загрузить модель/препроцессор: {e}\")\n",
    "\n",
    "# --- Создание FastAPI приложения ---\n",
    "# Используем событие 'startup' для загрузки модели при запуске API\n",
    "app = FastAPI(\n",
    "    title=\"Taxi Price Prediction API\",\n",
    "    description=\"API для предсказания стоимости поездки на такси\",\n",
    "    version=\"1.0.0\",\n",
    "    on_startup=[load_artifacts] # Вызываем функцию загрузки при старте\n",
    ")\n",
    "\n",
    "# --- Проверка состояния загрузки артефактов (для эндпоинтов) ---\n",
    "def check_artifacts_loaded():\n",
    "    if model is None or preprocessor is None:\n",
    "        # Эта ошибка должна была возникнуть при старте, но на всякий случай\n",
    "        raise HTTPException(status_code=503, detail=\"Сервис недоступен: Модель или препроцессор не загружены.\")\n",
    "\n",
    "# --- Эндпоинт для предсказания ---\n",
    "@app.post(\"/predict/\", response_model=PredictionOut, tags=[\"Prediction\"])\n",
    "async def predict_price(ride: TaxiRide):\n",
    "    \"\"\"\n",
    "    Принимает данные о поездке в формате JSON и возвращает предсказанную стоимость.\n",
    "    \n",
    "    - **distance_km**: Расстояние в километрах (float)\n",
    "    - **time_of_day**: Время суток ('Утро', 'День', 'Вечер', 'Ночь') (string)\n",
    "    - **weekend**: Выходной день (1) или нет (0) (integer)\n",
    "    - **passengers**: Количество пассажиров (1-4) (integer)\n",
    "    \"\"\"\n",
    "    check_artifacts_loaded() # Проверяем, загружены ли артефакты\n",
    "\n",
    "    try:\n",
    "        # 1. Преобразовать входные данные Pydantic в DataFrame Pandas\n",
    "        # Важно сохранить порядок столбцов, как при обучении препроцессора!\n",
    "        input_df = pd.DataFrame([ride.dict()], columns=['distance_km', 'time_of_day', 'weekend', 'passengers'])\n",
    "        \n",
    "        # 2. Применить препроцессор (только transform!)\n",
    "        input_processed = preprocessor.transform(input_df)\n",
    "\n",
    "        # 3. Сделать предсказание\n",
    "        prediction = model.predict(input_processed)\n",
    "\n",
    "        # 4. Вернуть результат\n",
    "        # prediction[0], так как predict возвращает массив (numpy array)\n",
    "        return PredictionOut(predicted_price=round(prediction[0], 2))\n",
    "\n",
    "    except Exception as e:\n",
    "        # Логгирование ошибки было бы здесь очень полезно в реальном приложении\n",
    "        print(f\"Ошибка во время предсказания: {e}\")\n",
    "        # Возвращаем стандартизированную ошибку HTTP\n",
    "        raise HTTPException(status_code=500, detail=f\"Внутренняя ошибка сервера при обработке запроса: {e}\")\n",
    "\n",
    "# --- Корневой эндпоинт (для проверки, что API работает) ---\n",
    "@app.get(\"/\", tags=[\"General\"])\n",
    "async def read_root():\n",
    "    \"\"\"\n",
    "    Корневой эндпоинт для проверки доступности API.\n",
    "    \"\"\"\n",
    "    return {\"message\": \"Привет! Это API для предсказания стоимости такси. Используйте эндпоинт /predict для получения прогноза.\"}\n",
    "\n",
    "# --- Эндпоинт для проверки состояния (опционально) ---\n",
    "@app.get(\"/health\", tags=[\"General\"])\n",
    "async def health_check():\n",
    "    \"\"\"\n",
    "    Проверяет, загружены ли модель и препроцессор.\n",
    "    \"\"\"\n",
    "    try:\n",
    "        check_artifacts_loaded()\n",
    "        return {\"status\": \"OK\", \"message\": \"Модель и препроцессор загружены.\"}\n",
    "    except HTTPException as e:\n",
    "        # Перехватываем HTTPException от check_artifacts_loaded\n",
    "         raise e # Просто передаем ее дальше\n",
    "    except Exception as e:\n",
    "        # Другие возможные ошибки\n",
    "        raise HTTPException(status_code=500, detail=f\"Ошибка состояния здоровья сервиса: {e}\")"
   ]
  },
  {
   "cell_type": "markdown",
   "id": "9d9b3e50-2d36-4af0-b81c-f52b49adec81",
   "metadata": {},
   "source": [
    "## 3.4 Локальный Запуск API\n",
    "\n",
    "Теперь запустим наше API локально с помощью сервера `uvicorn`. Он будет следить за изменениями в файле `api/main.py` благодаря флагу `--reload` и автоматически перезапускаться."
   ]
  },
  {
   "cell_type": "code",
   "execution_count": null,
   "id": "1b3b58f1-34af-43f8-a939-993863a8ed9e",
   "metadata": {},
   "outputs": [],
   "source": [
    "# Выполните команду в терминале, находясь в КОРНЕ проекта \n",
    "\n",
    "# Запускаем сервер Uvicorn:\n",
    "# api.main: указывает на файл main.py внутри папки api\n",
    "# app: имя экземпляра FastAPI внутри main.py\n",
    "# --reload: включает автоматическую перезагрузку при изменениях кода\n",
    "# --host 0.0.0.0: делает API доступным со всех сетевых интерфейсов машины (включая доступ из Windows к WSL2)\n",
    "# --port 8000: порт, на котором будет работать API\n",
    "uvicorn api.main:app --reload --host 0.0.0.0 --port 8000 "
   ]
  },
  {
   "cell_type": "markdown",
   "id": "0c79f2d7-e4f5-4505-a97a-48c746f89b30",
   "metadata": {},
   "source": [
    "После запуска вы должны увидеть в терминале сообщения от Uvicorn, включая информацию о загрузке модели и препроцессора, а также адрес, по которому доступно API (например, `http://0.0.0.0:8000`).\n",
    "\n",
    "## 3.5 Тестирование API\n",
    "\n",
    "Протестируем работающее API несколькими способами:\n",
    "\n",
    "1.  **Корневой эндпоинт:** Откройте в браузере `http://localhost:8000` или `http://127.0.0.1:8000`. Вы должны увидеть сообщение: `{\"message\":\"Привет! Это API для предсказания стоимости такси. Используйте эндпоинт /predict для получения прогноза.\"}`.\n",
    "\n",
    "2.  **Эндпоинт здоровья:** Откройте `http://localhost:8000/health`. Должно быть: `{\"status\":\"OK\",\"message\":\"Модель и препроцессор загружены.\"}`.\n",
    "\n",
    "3.  **Автоматическая документация (Swagger UI):** Откройте `http://localhost:8000/docs`. FastAPI автоматически генерирует интерактивную документацию. Здесь вы можете увидеть все доступные эндпоинты, их параметры, ожидаемые тела запросов и ответы. Вы даже можете отправить тестовый запрос прямо из интерфейса Swagger:\n",
    "    *   Найдите раздел `/predict`.\n",
    "    *   Нажмите \"Try it out\".\n",
    "    *   Отредактируйте пример JSON в поле \"Request body\".\n",
    "    *   Нажмите \"Execute\".\n",
    "    *   Посмотрите результат в секции \"Responses\".\n",
    "\n",
    "4.  **С помощью `curl` (из другого терминала WSL2):** Отправьте POST-запрос с данными поездки.\n",
    "\n"
   ]
  },
  {
   "cell_type": "code",
   "execution_count": null,
   "id": "0b41c026-7e1a-4a73-bd7b-59027ad6fb77",
   "metadata": {},
   "outputs": [],
   "source": [
    "```bash\n",
    "# Выполните команду в НОВОМ терминале WSL2 (не останавливая uvicorn)\n",
    "\n",
    "curl -X POST \"http://localhost:8000/predict/\" \\\n",
    "-H \"Content-Type: application/json\" \\\n",
    "-d '{\n",
    "  \"distance_km\": 5.5,\n",
    "  \"time_of_day\": \"Вечер\",\n",
    "  \"weekend\": 0,\n",
    "  \"passengers\": 1\n",
    "}'\n",
    "\n",
    "# Ожидаемый ответ (пример): {\"predicted_price\": 285.50} \n",
    "# (Точная цена будет зависеть от вашей сгенерированной модели)\n",
    "\n",
    "# Попробуйте другие значения:\n",
    "curl -X POST \"http://localhost:8000/predict/\" \\\n",
    "-H \"Content-Type: application/json\" \\\n",
    "-d '{\n",
    "  \"distance_km\": 20.0,\n",
    "  \"time_of_day\": \"Ночь\",\n",
    "  \"weekend\": 1,\n",
    "  \"passengers\": 3\n",
    "}'\n",
    "\n",
    "# Попробуйте невалидные данные (FastAPI вернет ошибку 422)\n",
    "curl -X POST \"http://localhost:8000/predict/\" \\\n",
    "-H \"Content-Type: application/json\" \\\n",
    "-d '{\n",
    "  \"distance_km\": -5, \n",
    "  \"time_of_day\": \"Поздний вечер\", \n",
    "  \"weekend\": 2, \n",
    "  \"passengers\": 5\n",
    "}'"
   ]
  },
  {
   "cell_type": "markdown",
   "id": "29959fd3-cdb7-426f-a625-2d2e96f60d8e",
   "metadata": {},
   "source": [
    "Если все тесты проходят успешно, значит, наше API работает корректно!\n",
    "\n",
    "Остановите Uvicorn сервер в первом терминале, нажав `Ctrl+C`.\n",
    "\n",
    "## 3.6 Коммит в Git\n",
    "\n",
    "Сохраним все наши изменения в репозитории Git."
   ]
  },
  {
   "cell_type": "code",
   "execution_count": null,
   "id": "349179aa-7d24-4811-91e7-d6dc6abf92be",
   "metadata": {},
   "outputs": [],
   "source": [
    "# Добавляем новые и измененные файлы\n",
    "git add requirements.txt api/__init__.py api/main.py\n",
    "\n",
    "# Коммитим изменения\n",
    "git commit -m \"Feat: Implement FastAPI endpoint for taxi price prediction\"\n",
    "\n",
    "# Проверяем статус\n",
    "git status"
   ]
  },
  {
   "cell_type": "markdown",
   "id": "51ca21df-740d-493c-8740-49467fb4dbd0",
   "metadata": {},
   "source": [
    "Отлично! Мы создали, запустили и протестировали наше первое API с FastAPI. На следующем шаге мы создадим простой веб-интерфейс с помощью Streamlit для взаимодействия с этим API."
   ]
  },
  {
   "cell_type": "markdown",
   "id": "4bb18df9-c244-44c9-9bfb-398f55a1b325",
   "metadata": {},
   "source": [
    "# 4. Создание Веб-интерфейса с Streamlit\n",
    "\n",
    "*   **Задача:** Создать простое интерактивное веб-приложение, которое позволит пользователю вводить параметры поездки и получать предсказанную стоимость, обращаясь к нашему ранее созданному FastAPI. Streamlit - отличный инструмент для быстрого создания таких data-приложений на Python.\n",
    "*   **Действия:**\n",
    "    *   Установить необходимые библиотеки (`streamlit`, `requests`).\n",
    "    *   Создать файл `dashboard.py` для кода Streamlit приложения.\n",
    "    *   Написать код приложения:\n",
    "        *   Создать элементы интерфейса (поля ввода, слайдеры, кнопки).\n",
    "        *   При нажатии кнопки отправлять запрос к локально запущенному FastAPI.\n",
    "        *   Отображать результат (предсказанную цену) или сообщение об ошибке.\n",
    "    *   Запустить Streamlit приложение локально.\n",
    "    *   Протестировать интерфейс.\n",
    "\n",
    "## 4.1 Установка Зависимостей\n",
    "\n",
    "Нам понадобятся библиотека `streamlit` для создания самого интерфейса и `requests` для отправки HTTP-запросов к нашему FastAPI."
   ]
  },
  {
   "cell_type": "code",
   "execution_count": null,
   "id": "85185a90-b8af-43ff-97ac-e6c80fdc4e0b",
   "metadata": {},
   "outputs": [],
   "source": [
    "# Добавляем зависимости в файл requirements.txt\n",
    "echo \"streamlit\" >> requirements.txt\n",
    "echo \"requests\" >> requirements.txt \n",
    "\n",
    "# Устанавливаем зависимости из обновленного файла\n",
    "pip install -r requirements.txt\n",
    "\n",
    "# Проверим, что установилось\n",
    "pip list | grep streamlit\n",
    "pip list | grep requests"
   ]
  },
  {
   "cell_type": "markdown",
   "id": "580c31a2-0731-4745-9421-64d1b14f87fd",
   "metadata": {},
   "source": [
    "## 4.2 Создание Файла Дашборда\n",
    "\n",
    "Создадим файл `dashboard.py` в корне нашего проекта. В нем будет весь код нашего Streamlit-приложения."
   ]
  },
  {
   "cell_type": "code",
   "execution_count": null,
   "id": "c92477b9-219c-4a29-8163-5e2dec04ed48",
   "metadata": {},
   "outputs": [],
   "source": [
    "# Создаем файл dashboard.py (пока пустой)\n",
    "touch dashboard.py\n",
    "\n",
    "# Проверим структуру\n",
    "ls -l dashboard.py"
   ]
  },
  {
   "cell_type": "markdown",
   "id": "99507690-8cae-44ff-8ef5-a1738c7689d5",
   "metadata": {},
   "source": [
    "## 4.3 Написание Кода Streamlit \n",
    "Теперь напишем код самого дашборда. Мы используем различные виджеты Streamlit (`st.title`, `st.number_input`, `st.selectbox`, `st.slider`, `st.checkbox`, `st.button`, `st.success`, `st.error`) для создания пользовательского интерфейса и библиотеку `requests` для взаимодействия с API."
   ]
  },
  {
   "cell_type": "code",
   "execution_count": null,
   "id": "8d8dae9a-a41c-4519-a414-074b874cf2f9",
   "metadata": {},
   "outputs": [],
   "source": [
    "# Содержимое файла dashboard.py\n",
    "# Скопируйте этот код и вставьте в файл dashboard.py\n",
    "\n",
    "import streamlit as st\n",
    "import requests # Для отправки HTTP запросов к API\n",
    "import json     # Для работы с JSON (хотя requests часто делает это автоматически)\n",
    "import os       # Для формирования URL API (опционально)\n",
    "\n",
    "# --- Настройка страницы Streamlit ---\n",
    "st.set_page_config(\n",
    "    page_title=\"Предсказание Цены Такси\", \n",
    "    page_icon=\"🚕\", # Эмодзи в качестве иконки\n",
    "    layout=\"centered\", # или \"wide\"\n",
    "    initial_sidebar_state=\"auto\" # или \"expanded\", \"collapsed\"\n",
    ")\n",
    "\n",
    "# --- Заголовок и Описание ---\n",
    "st.title(\"🚕 Калькулятор Стоимости Поездки на Такси\")\n",
    "st.write(\"\"\"\n",
    "Введите параметры вашей предполагаемой поездки, чтобы получить оценку \n",
    "стоимости на основе нашей предсказательной модели.\n",
    "\"\"\")\n",
    "st.markdown(\"---\") # Горизонтальная линия\n",
    "\n",
    "# --- Формирование URL API ---\n",
    "# Предполагаем, что FastAPI запущен локально на порту 8000\n",
    "# Можно сделать более гибко, используя переменные окружения, но для демо оставим так\n",
    "API_HOST = os.getenv(\"API_HOST\", \"localhost\") \n",
    "API_PORT = os.getenv(\"API_PORT\", \"8000\")\n",
    "API_URL = f\"http://{API_HOST}:{API_PORT}/predict/\" \n",
    "\n",
    "st.sidebar.info(f\"API endpoint: `{API_URL}`\") # Показываем адрес API в боковой панели\n",
    "\n",
    "# --- Ввод данных пользователем ---\n",
    "st.header(\"Параметры Поездки\")\n",
    "\n",
    "# Используем колонки для более компактного размещения\n",
    "col1, col2 = st.columns(2)\n",
    "\n",
    "with col1:\n",
    "    distance = st.number_input(\n",
    "        \"Расстояние (км)\", \n",
    "        min_value=0.1, \n",
    "        max_value=100.0, \n",
    "        value=5.0, # Значение по умолчанию\n",
    "        step=0.1,\n",
    "        help=\"Введите дистанцию поездки в километрах.\"\n",
    "    )\n",
    "    passengers = st.slider(\n",
    "        \"Количество пассажиров\", \n",
    "        min_value=1, \n",
    "        max_value=4, \n",
    "        value=1, # Значение по умолчанию\n",
    "        help=\"Выберите количество пассажиров.\"\n",
    "    )\n",
    "\n",
    "with col2:\n",
    "    time_of_day = st.selectbox(\n",
    "        \"Время суток\", \n",
    "        options=[\"Утро\", \"День\", \"Вечер\", \"Ночь\"],\n",
    "        index=1, # Индекс значения по умолчанию (\"День\")\n",
    "        help=\"Выберите примерное время начала поездки.\"\n",
    "    )\n",
    "    is_weekend = st.checkbox(\n",
    "        \"Выходной день?\", \n",
    "        value=False, # Значение по умолчанию\n",
    "        help=\"Отметьте, если поездка планируется в субботу или воскресенье.\"\n",
    "    )\n",
    "    \n",
    "# --- Кнопка для запуска предсказания ---\n",
    "st.markdown(\"---\") \n",
    "# st.button возвращает True, если на нее нажали в этом цикле запуска скрипта\n",
    "if st.button(\"✨ Рассчитать стоимость ✨\", type=\"primary\"):\n",
    "    \n",
    "    # --- Подготовка данных для отправки в API ---\n",
    "    # Создаем словарь точно в том формате, который ожидает наша Pydantic модель в FastAPI\n",
    "    api_input_data = {\n",
    "        \"distance_km\": distance,\n",
    "        \"time_of_day\": time_of_day,\n",
    "        \"weekend\": 1 if is_weekend else 0, # Преобразуем bool в int (0 или 1)\n",
    "        \"passengers\": passengers\n",
    "    }\n",
    "    \n",
    "    st.write(\"Отправляемые данные в API:\", api_input_data) # Для отладки\n",
    "\n",
    "    # --- Отправка запроса к API ---\n",
    "    try:\n",
    "        # Используем requests.post для отправки данных\n",
    "        # json=api_input_data автоматически преобразует dict в JSON и установит заголовок Content-Type\n",
    "        response = requests.post(API_URL, json=api_input_data, timeout=5) # timeout в секундах\n",
    "        \n",
    "        # Проверяем статус-код ответа\n",
    "        response.raise_for_status() # Вызовет исключение для HTTP ошибок (4xx, 5xx)\n",
    "        \n",
    "        # --- Обработка успешного ответа ---\n",
    "        result = response.json() # Декодируем JSON ответ в Python dict\n",
    "        \n",
    "        if \"predicted_price\" in result:\n",
    "            price = result[\"predicted_price\"]\n",
    "            # Используем st.metric для красивого отображения значения\n",
    "            st.metric(label=\"Предсказанная стоимость\", value=f\"{price:.2f} руб.\")\n",
    "            st.success(\"Расчет выполнен успешно!\")\n",
    "        else:\n",
    "            # Если ответ 200 ОК, но нет ожидаемого ключа\n",
    "            st.warning(\"Получен неожиданный успешный ответ от API.\")\n",
    "            st.json(result) # Показать весь ответ для дебага\n",
    "\n",
    "    # --- Обработка ошибок ---\n",
    "    except requests.exceptions.ConnectionError:\n",
    "        st.error(f\"Не удалось подключиться к API по адресу: {API_URL}. \"\n",
    "                 \"Убедитесь, что FastAPI сервер запущен и доступен.\")\n",
    "    except requests.exceptions.Timeout:\n",
    "        st.error(\"Запрос к API превысил время ожидания. Сервер может быть перегружен или недоступен.\")\n",
    "    except requests.exceptions.RequestException as e:\n",
    "        # Обработка других ошибок requests (включая HTTP ошибки после raise_for_status)\n",
    "        st.error(f\"Произошла ошибка при запросе к API: {e}\")\n",
    "        # Попытаемся показать тело ответа, если оно есть (может содержать детали ошибки от FastAPI)\n",
    "        try:\n",
    "            error_details = e.response.json()\n",
    "            st.json(error_details)\n",
    "        except:\n",
    "            # Если тело ответа не JSON или отсутствует\n",
    "             st.write(\"Дополнительные детали ошибки отсутствуют в ответе API.\")\n",
    "\n",
    "    except Exception as e:\n",
    "        # Обработка других неожиданных ошибок\n",
    "        st.error(f\"Произошла непредвиденная ошибка: {e}\")\n",
    "\n",
    "else:\n",
    "    # Что показывается до нажатия кнопки\n",
    "    st.info(\"Нажмите кнопку 'Рассчитать стоимость', чтобы получить прогноз.\")\n",
    "\n",
    "# Добавим немного информации в конце\n",
    "st.markdown(\"---\")\n",
    "st.caption(\"Прототип. Не для продажи!)).\")"
   ]
  },
  {
   "cell_type": "markdown",
   "id": "fc265173-ddd4-4751-a403-f1983b15c9f4",
   "metadata": {},
   "source": [
    "## 4.4 Запуск Streamlit Приложения Локально\n",
    "\n",
    "Теперь самое интересное! Запустим наше Streamlit приложение.\n",
    "\n",
    "**Важно:** Перед запуском Streamlit убедитесь, что ваш FastAPI сервер **уже запущен** в другом терминале и доступен по адресу `http://localhost:8000`.\n",
    "\n",
    "1.  **Запустите FastAPI (если еще не запущен):**\n",
    "    В одном терминале:\n",
    " "
   ]
  },
  {
   "cell_type": "code",
   "execution_count": null,
   "id": "0c61eabe-9d26-4843-9e1a-13302b0f55b4",
   "metadata": {},
   "outputs": [],
   "source": [
    "   ```bash\n",
    "    uvicorn api.main:app --host 0.0.0.0 --port 8000 \n",
    "    # Флаг --reload здесь не обязателен, если код API не меняется\n",
    "    ```\n",
    "\n"
   ]
  },
  {
   "cell_type": "markdown",
   "id": "a3286956-83d3-43c7-9def-37d6fd5c1518",
   "metadata": {},
   "source": [
    "2.  **Запустите Streamlit:**\n",
    "    В **другом** терминале  (также в корне проекта, с активированным venv):\n",
    "  "
   ]
  },
  {
   "cell_type": "code",
   "execution_count": null,
   "id": "e525d315-bea7-4241-b1bd-df5903ae3213",
   "metadata": {},
   "outputs": [],
   "source": [
    "  ```bash\n",
    "    streamlit run dashboard.py\n",
    "    ```\n",
    "\n"
   ]
  },
  {
   "cell_type": "markdown",
   "id": "db52daa3-d048-45dd-ba82-152e7ff2db0a",
   "metadata": {},
   "source": [
    "После запуска Streamlit должен автоматически открыть новую вкладку в вашем браузере по адресу вроде `http://localhost:8501`."
   ]
  },
  {
   "cell_type": "markdown",
   "id": "6e43ede0-1e5b-4b9f-8ce9-2496b7c5b2bc",
   "metadata": {},
   "source": [
    "## 4.5 Тестирование Интерфейса"
   ]
  },
  {
   "cell_type": "markdown",
   "id": "f1f9acac-4b55-4081-846e-e8d1b3a23c97",
   "metadata": {},
   "source": [
    "Откройте вкладку с приложением Streamlit в браузере:\n",
    "\n",
    "1.  Вы должны увидеть заголовок, описание и поля для ввода параметров поездки.\n",
    "2.  Попробуйте изменить значения: введите другое расстояние, выберите время суток, количество пассажиров, отметьте чекбокс \"Выходной день?\".\n",
    "3.  Нажмите кнопку \"Рассчитать стоимость\".\n",
    "4.  Если FastAPI сервер работает и доступен, Streamlit отправит запрос, получит ответ и отобразит предсказанную стоимость под кнопкой с помощью `st.metric` и сообщение `st.success`.\n",
    "5.  Попробуйте ввести разные комбинации и посмотреть, как меняется предсказанная цена.\n",
    "6.  **Проверка обработки ошибок:** Остановите FastAPI сервер (`Ctrl+C` в его терминале) и снова нажмите кнопку \"Рассчитать стоимость\" в Streamlit. Вы должны увидеть сообщение об ошибке подключения (`st.error`). Запустите FastAPI снова, и расчет должен заработать."
   ]
  },
  {
   "cell_type": "markdown",
   "id": "db8b48a4-72c9-4830-812f-231639624caa",
   "metadata": {},
   "source": [
    "## 4.6 Коммит в Git\n",
    "\n",
    "Добавим наш дашборд в систему контроля версий."
   ]
  },
  {
   "cell_type": "markdown",
   "id": "18cabc95-ae22-4c3c-9e8b-fcaef1bfa475",
   "metadata": {},
   "source": [
    "###### Теперь у нас есть полный локальный прототип: модель обучена, API предоставляет к ней доступ, а дашборд позволяет пользователю легко этим пользоваться. Следующий шаг - упаковать наше API в Docker-контейнер для более надежного и переносимого развертывания."
   ]
  },
  {
   "cell_type": "markdown",
   "id": "b554a457-2d69-46ef-8703-0568b2db0305",
   "metadata": {
    "tags": []
   },
   "source": [
    "# 5. Контейнеризация API с Docker\n",
    "\n",
    "*   **Задача:** Упаковать наше FastAPI приложение, включая все его зависимости, Python интерпретатор, модель и препроцессор, в стандартизированный, изолированный пакет, называемый Docker-контейнером. Это позволит легко запускать наше API на любой машине, где установлен Docker, без необходимости вручную настраивать окружение.\n",
    "*   **Преимущества Docker:**\n",
    "    *   **Изоляция:** Приложение работает в своем собственном окружении, не конфликтуя с другими приложениями на хост-машине.\n",
    "    *   **Воспроизводимость:** Окружение точно такое же, как было при разработке и тестировании.\n",
    "    *   **Переносимость:** Контейнер можно легко перенести и запустить на локальной машине, на сервере, в облаке.\n",
    "    *   **Масштабируемость:** Легко запускать несколько экземпляров контейнера для обработки большей нагрузки.\n",
    "*   **Действия:**\n",
    "    *   Убедиться, что Docker установлен и работает.\n",
    "    *   Создать `Dockerfile` с инструкциями по сборке образа.\n",
    "    *   (При необходимости) Скорректировать пути к модели/препроцессору в `api/main.py`.\n",
    "    *   Собрать Docker-образ.\n",
    "    *   Запустить контейнер из образа локально.\n",
    "    *   Протестировать API, работающее внутри контейнера.\n",
    "\n",
    "## 5.1 Проверка Установки Docker\n",
    "\n",
    "Прежде чем начать, убедитесь, что Docker установлен в вашей системе и интегрирован с WSL2 (если вы используете Windows)."
   ]
  },
  {
   "cell_type": "code",
   "execution_count": null,
   "id": "331e3590-3ad6-4c90-89aa-50721a0051e1",
   "metadata": {},
   "outputs": [],
   "source": [
    "docker --version \n",
    "# Ожидаемый результат: Docker version XX.YY.Z, build ...\n",
    "\n",
    "docker ps \n",
    "# Эта команда покажет запущенные контейнеры (список должен быть пустым, если ничего не запущено)\n",
    "# Если команда выполнилась без ошибки \"command not found\", значит Docker работает."
   ]
  },
  {
   "cell_type": "markdown",
   "id": "f5e29d82-52e5-4e8c-bf3b-e0d01fd6a739",
   "metadata": {},
   "source": [
    "Если Docker не установлен или не настроен для WSL2, следуйте официальной документации Docker для его установки (https://docs.docker.com/engine/install/ или https://docs.docker.com/desktop/install/windows-install/ )."
   ]
  },
  {
   "cell_type": "markdown",
   "id": "b4bd23dc-b12d-44e3-a6c8-130f35a13ec8",
   "metadata": {},
   "source": [
    "## 5.2 Создание Dockerfile"
   ]
  },
  {
   "cell_type": "markdown",
   "id": "cf7a5453-6d05-4eb8-bb46-42da93ff3ff4",
   "metadata": {},
   "source": [
    "Dockerfile - это текстовый файл, содержащий набор инструкций, по которым Docker собирает образ вашего приложения. Создадим его в корневой папке проекта.\n",
    "\n"
   ]
  },
  {
   "cell_type": "code",
   "execution_count": null,
   "id": "c7edd418-7c5c-454c-8fc4-2a63d5578706",
   "metadata": {},
   "outputs": [],
   "source": [
    "touch Dockerfile"
   ]
  },
  {
   "cell_type": "code",
   "execution_count": null,
   "id": "75787b82-ed37-48ab-867c-a6e250f545cb",
   "metadata": {},
   "outputs": [],
   "source": [
    "# Содержимое файла Dockerfile\n",
    "# Скопируйте этот код и вставьте в файл Dockerfile\n",
    "\n",
    "# --- Этап 1: Базовый образ ---\n",
    "# Используем официальный образ Python 3.9 (можно выбрать другую подходящую версию)\n",
    "# slim-buster - это легковесная версия на основе Debian Buster, хорошо подходит для продакшена\n",
    "FROM python:3.9-slim-buster as base\n",
    "\n",
    "# Устанавливаем переменные окружения\n",
    "# PYTHONUNBUFFERED=1: логи Python выводятся сразу, а не буферизуются (важно для логов Docker)\n",
    "# PYTHONDONTWRITEBYTECODE=1: не создавать .pyc файлы\n",
    "ENV PYTHONUNBUFFERED=1 \\\n",
    "    PYTHONDONTWRITEBYTECODE=1 \\\n",
    "    # Указываем порт, который будет использоваться по умолчанию внутри контейнера\n",
    "    # Это не публикует порт наружу, это просто метаданные\n",
    "    PORT=8000 \n",
    "\n",
    "# Устанавливаем рабочую директорию внутри контейнера\n",
    "# Все последующие команды RUN, CMD, COPY, ADD будут выполняться относительно этой папки\n",
    "WORKDIR /app\n",
    "\n",
    "# --- Этап 2: Установка зависимостей ---\n",
    "# Копируем только файл requirements.txt, чтобы воспользоваться кэшированием Docker\n",
    "# Если requirements.txt не изменился, Docker переиспользует этот слой при пересборке\n",
    "COPY requirements.txt .\n",
    "\n",
    "# Обновляем pip и устанавливаем зависимости\n",
    "# --no-cache-dir: не сохранять кэш pip, чтобы уменьшить размер образа\n",
    "# --upgrade pip: обновляем pip до последней версии\n",
    "# -r requirements.txt: устанавливаем все из файла\n",
    "RUN pip install --no-cache-dir --upgrade pip && \\\n",
    "    pip install --no-cache-dir -r requirements.txt\n",
    "\n",
    "# --- Этап 3: Копирование кода и артефактов ---\n",
    "# Копируем весь код API из локальной папки api в папку /app/api внутри контейнера\n",
    "COPY ./api /app/api\n",
    "\n",
    "# Копируем файлы модели и препроцессора из корня проекта в рабочую директорию /app контейнера\n",
    "COPY ./taxi_price_model.joblib /app/taxi_price_model.joblib\n",
    "COPY ./taxi_preprocessor.joblib /app/taxi_preprocessor.joblib\n",
    "\n",
    "# --- Этап 4: Настройка запуска ---\n",
    "# Указываем Docker, что контейнер будет слушать на порту ${PORT} (8000)\n",
    "# Это также метаданные, фактическое пробрасывание порта делается при запуске (docker run -p)\n",
    "EXPOSE ${PORT}\n",
    "\n",
    "# Команда, которая будет выполнена при запуске контейнера\n",
    "# Запускаем uvicorn, указывая путь к приложению FastAPI (api.main:app)\n",
    "# --host 0.0.0.0: слушать на всех сетевых интерфейсах внутри контейнера (важно для Docker)\n",
    "# --port ${PORT}: использовать порт, заданный переменной окружения\n",
    "CMD [\"uvicorn\", \"api.main:app\", \"--host\", \"0.0.0.0\", \"--port\", \"8000\"]"
   ]
  },
  {
   "attachments": {
    "d68f9e5c-3912-4a92-a102-7044fb1b034d.png": {
     "image/png": "[encoded data removed]"
    },
    "eae2ca93-9cde-443f-a33c-c113df677609.png": {
     "image/png": "[encoded data removed]"
    }
   },
   "cell_type": "markdown",
   "id": "777173a0-73b4-4203-92d6-de71cdafa11f",
   "metadata": {},
   "source": [
    "![image.png](attachment:d68f9e5c-3912-4a92-a102-7044fb1b034d.png)![download.png](attachment:eae2ca93-9cde-443f-a33c-c113df677609.png)"
   ]
  },
  {
   "cell_type": "markdown",
   "id": "33b14449-6840-43ea-be2a-6f69d9ddeac8",
   "metadata": {},
   "source": [
    "## 5.3 Проверка Путей к Модели в api/main.py\n"
   ]
  },
  {
   "cell_type": "markdown",
   "id": "f4242a6c-0f93-4631-aa41-59b026b635cd",
   "metadata": {},
   "source": [
    " Убедитесь, что пути к файлам .joblib в вашем скрипте api/main.py соответствуют тому, куда вы скопировали эти файлы в Dockerfile.\n",
    "\n",
    "В нашем Dockerfile мы скопировали taxi_price_model.joblib и taxi_preprocessor.joblib в рабочую директорию /app.\n",
    "\n",
    "В файле api/main.py код загрузки артефактов выглядит так:"
   ]
  },
  {
   "cell_type": "code",
   "execution_count": null,
   "id": "6bbc31c2-b835-4efe-a81c-0b39ffae65bb",
   "metadata": {},
   "outputs": [],
   "source": [
    "# Фрагмент из api/main.py\n",
    "# Пути указываем относительно корня проекта, откуда будет запускаться uvicorn\n",
    "model_path = 'taxi_price_model.joblib'\n",
    "preprocessor_path = 'taxi_preprocessor.joblib'\n",
    "# ... остальной код загрузки ..."
   ]
  },
  {
   "cell_type": "markdown",
   "id": "7f40fcb3-4c27-4c01-bdaf-8c51400f2beb",
   "metadata": {},
   "source": [
    "Поскольку рабочая директория в контейнере /app, и uvicorn будет запускаться из нее, а файлы модели лежат прямо в /app, то текущие пути ('taxi_price_model.joblib', 'taxi_preprocessor.joblib') корректны. Они будут искаться относительно рабочей директории /app.\n",
    "\n",
    "Если бы вы скопировали файлы в другое место (например, в /app/artifacts), вам нужно было бы изменить model_path = 'artifacts/taxi_price_model.joblib' и т.д. в api/main.py."
   ]
  },
  {
   "cell_type": "markdown",
   "id": "f11f8e6e-9e6a-4986-a0c6-0139cfdad6f7",
   "metadata": {},
   "source": [
    "## 5.4 Создание файла .dockerignore (Рекомендация)"
   ]
  },
  {
   "cell_type": "markdown",
   "id": "f0b30af5-fa99-401c-ae51-2614f9387bc6",
   "metadata": {},
   "source": [
    "Чтобы ускорить сборку и уменьшить размер образа, полезно создать файл .dockerignore. Он работает аналогично .gitignore, указывая Docker, какие файлы и папки из контекста сборки (корневой папки проекта) не нужно копировать внутрь образа.\n",
    "\n"
   ]
  },
  {
   "cell_type": "code",
   "execution_count": null,
   "id": "ce3ac17e-5a41-468d-8dfa-73185c1493aa",
   "metadata": {},
   "outputs": [],
   "source": [
    "touch .dockerignore"
   ]
  },
  {
   "cell_type": "markdown",
   "id": "44ac7a48-268c-4741-bdba-8b8d87632247",
   "metadata": {},
   "source": [
    "## 5.5 Сборка Docker-образа\n"
   ]
  },
  {
   "cell_type": "markdown",
   "id": "d9c06223-f3fc-42e3-af91-381ef83ba0ae",
   "metadata": {},
   "source": [
    "Теперь, когда у нас есть Dockerfile и api/main.py с правильными путями, мы можем собрать Docker-образ. Сборка происходит в корне проекта, где лежит Dockerfile."
   ]
  },
  {
   "cell_type": "code",
   "execution_count": 5,
   "id": "6103d3eb-4c11-4a35-a551-a7df30d5fb5c",
   "metadata": {
    "tags": []
   },
   "outputs": [
    {
     "ename": "SyntaxError",
     "evalue": "invalid syntax (964288203.py, line 5)",
     "output_type": "error",
     "traceback": [
      "\u001b[0;36m  Cell \u001b[0;32mIn[5], line 5\u001b[0;36m\u001b[0m\n\u001b[0;31m    docker build -t taxi-predictor-api:latest .\u001b[0m\n\u001b[0m           ^\u001b[0m\n\u001b[0;31mSyntaxError\u001b[0m\u001b[0;31m:\u001b[0m invalid syntax\n"
     ]
    }
   ],
   "source": [
    "# docker build [опции] -t имя_образа:тег путь_к_контексту_сборки\n",
    "# -t taxi-predictor-api:latest : задает имя (taxi-predictor-api) и тег (latest) для образа\n",
    "# . : указывает, что контекст сборки (файлы, которые Docker может использовать) - это текущая директория\n",
    "\n",
    "docker build -t taxi-predictor-api:latest . "
   ]
  },
  {
   "cell_type": "markdown",
   "id": "bfbb9a98-aff5-45d6-a475-074b8c080390",
   "metadata": {},
   "source": [
    "Процесс сборки может занять некоторое время, особенно в первый раз, так как Docker будет скачивать базовый образ и устанавливать зависимости. Вы увидите логи выполнения каждой инструкции из Dockerfile. Если все пройдет успешно, в конце вы увидите сообщение типа Successfully tagged taxi-predictor-api:latest.\n",
    "\n",
    "Вы можете увидеть созданный образ в списке локальных образов:"
   ]
  },
  {
   "cell_type": "markdown",
   "id": "40e29c70-5612-463c-a436-703a713a5648",
   "metadata": {},
   "source": [
    "``docker images | grep taxi-predictor-api``"
   ]
  },
  {
   "cell_type": "markdown",
   "id": "841ab93b-761f-4364-a64f-b35dba1d66ed",
   "metadata": {
    "tags": []
   },
   "source": [
    "## 5.6 Запуск Контейнера Локально\n"
   ]
  },
  {
   "cell_type": "markdown",
   "id": "5d0413b7-663f-4bf6-86ac-a3697342938a",
   "metadata": {},
   "source": [
    "Теперь запустим контейнер из только что собранного образа.\n",
    "\n"
   ]
  },
  {
   "cell_type": "code",
   "execution_count": null,
   "id": "6c95f1e4-2bf7-45b9-8bfa-83d678c291d6",
   "metadata": {},
   "outputs": [],
   "source": [
    "# Убедитесь, что Uvicorn, запущенный ранее НЕ в Docker, остановлен (Ctrl+C)\n",
    "# Иначе порт 8000 будет занят\n",
    "\n",
    "# docker run [опции] имя_образа:тег\n",
    "# -d: запустить контейнер в фоновом (detached) режиме\n",
    "# -p 8000:8000 : пробросить порт 8000 хост-машины (WSL2) на порт 8000 внутри контейнера. \n",
    "#               Формат: <порт_хоста>:<порт_контейнера>\n",
    "# --name taxi_api_container : присвоить контейнеру имя для удобства управления\n",
    "# taxi-predictor-api:latest : имя и тег образа, из которого создаем контейнер\n",
    "\n",
    "docker run -d -p 8000:8000 --name taxi_api_container taxi-predictor-api:latest "
   ]
  },
  {
   "cell_type": "code",
   "execution_count": null,
   "id": "88bdf855-c050-410d-9565-8d7cf3104f79",
   "metadata": {},
   "outputs": [],
   "source": [
    "docker ps \n"
   ]
  },
  {
   "cell_type": "markdown",
   "id": "12878414-853b-4503-9298-997d2db59917",
   "metadata": {},
   "source": [
    "## 5.7 Тестирование API из Docker-контейнера\n"
   ]
  },
  {
   "cell_type": "markdown",
   "id": "e144234a-55c7-4994-884b-8df1ed54655b",
   "metadata": {},
   "source": [
    "Теперь API работает внутри изолированного контейнера, но благодаря пробросу порта (-p 8000:8000) оно доступно на localhost:8000 вашей хост-машины (или WSL2).\n",
    "\n",
    "Протестируйте его точно так же, как вы тестировали API, запущенное через uvicorn напрямую:\n",
    "\n",
    "Браузер:\n",
    "- Откройте http://localhost:8000 (должно быть приветствие).\n",
    "- Откройте http://localhost:8000/docs (должна быть Swagger UI документация).\n",
    "- Откройте http://localhost:8000/health (должен быть статус OK).\n"
   ]
  },
  {
   "cell_type": "code",
   "execution_count": null,
   "id": "a2f924ca-fed4-4fd6-af6e-c9268c1812ad",
   "metadata": {},
   "outputs": [],
   "source": [
    "curl -X POST \"http://localhost:8000/predict/\" \\\n",
    "-H \"Content-Type: application/json\" \\\n",
    "-d '{\n",
    "  \"distance_km\": 7.2,\n",
    "  \"time_of_day\": \"Утро\",\n",
    "  \"weekend\": 0,\n",
    "  \"passengers\": 1\n",
    "}'\n",
    "# Ожидаем JSON с predicted_price"
   ]
  },
  {
   "cell_type": "markdown",
   "id": "8c6e60bf-f254-45d6-8c21-bf194821479f",
   "metadata": {},
   "source": [
    "Streamlit Dashboard:\n",
    "Запустите Streamlit дашборд (если он еще не запущен): streamlit run dashboard.py\n",
    "Дашборд по-прежнему обращается к http://localhost:8000/predict/. Теперь этот адрес ведет к API внутри Docker-контейнера. Проверьте, что расчет стоимости в дашборде работает."
   ]
  },
  {
   "cell_type": "markdown",
   "id": "c65b929b-0cf7-48c4-9694-cc2126e261bb",
   "metadata": {},
   "source": [
    "## 5.8 Управление Контейнером\n"
   ]
  },
  {
   "cell_type": "markdown",
   "id": "c89590e7-3702-4fd0-ac75-22c144f1ef26",
   "metadata": {},
   "source": [
    "###### Просмотр логов:\n",
    "    Полезно для отладки, если что-то идет не так внутри контейнера.\n"
   ]
  },
  {
   "cell_type": "code",
   "execution_count": null,
   "id": "cf3be480-c8ec-4a14-834b-d772b5bea616",
   "metadata": {},
   "outputs": [],
   "source": [
    "docker logs taxi_api_container \n",
    "# Чтобы следить за логами в реальном времени (как tail -f):\n",
    "# docker logs -f taxi_api_container "
   ]
  },
  {
   "cell_type": "code",
   "execution_count": null,
   "id": "432cc3b8-197b-44cc-af4b-9df2939475d2",
   "metadata": {},
   "outputs": [],
   "source": []
  },
  {
   "cell_type": "markdown",
   "id": "1f9a4107-700a-4d4f-936f-a6e24d5b365f",
   "metadata": {},
   "source": [
    "###### Остановка контейнера:\n"
   ]
  },
  {
   "cell_type": "code",
   "execution_count": null,
   "id": "1e64cab1-a3a2-44a9-b02e-5fedf76ba6fc",
   "metadata": {},
   "outputs": [],
   "source": [
    "docker stop taxi_api_container"
   ]
  },
  {
   "cell_type": "markdown",
   "id": "7eff912a-1716-4ed6-86ca-01360db41501",
   "metadata": {},
   "source": [
    "###### Запуск остановленного контейнера:\n"
   ]
  },
  {
   "cell_type": "code",
   "execution_count": null,
   "id": "b6f522e7-d4e4-432b-a9ef-43a44a7b2ebd",
   "metadata": {},
   "outputs": [],
   "source": [
    "Запуск остановленного контейнера:\n"
   ]
  },
  {
   "cell_type": "markdown",
   "id": "1388dda3-9ab0-4558-b2d5-7c3a42028e1f",
   "metadata": {},
   "source": [
    "###### Перезапуск контейнера:\n"
   ]
  },
  {
   "cell_type": "code",
   "execution_count": null,
   "id": "3dc83180-bf43-4aab-8431-f91da8f0b142",
   "metadata": {},
   "outputs": [],
   "source": [
    "docker restart taxi_api_container"
   ]
  },
  {
   "cell_type": "markdown",
   "id": "af1a43a1-13e3-4973-9757-5d2bbe26ef93",
   "metadata": {},
   "source": [
    "###### Удаление контейнера (нужно сначала остановить):\n"
   ]
  },
  {
   "cell_type": "code",
   "execution_count": null,
   "id": "de4177b3-ecd2-47b6-b380-6066514e8553",
   "metadata": {},
   "outputs": [],
   "source": [
    "docker stop taxi_api_container \n",
    "docker rm taxi_api_container\n",
    "# Удалить все остановленные контейнеры: docker container prune -f"
   ]
  },
  {
   "cell_type": "markdown",
   "id": "ee4b38b4-424b-4304-be7a-d671b918b522",
   "metadata": {},
   "source": [
    "###### Удаление образа:\n"
   ]
  },
  {
   "cell_type": "code",
   "execution_count": null,
   "id": "49ff7e6e-b1bc-42a0-a1ec-537f7552e8dd",
   "metadata": {},
   "outputs": [],
   "source": [
    "# Сначала нужно остановить и удалить все контейнеры, созданные из этого образа\n",
    "docker rmi taxi-predictor-api:latest\n",
    "# Удалить все неиспользуемые (dangling) образы: docker image prune -f"
   ]
  },
  {
   "cell_type": "markdown",
   "id": "b1ae5ec0-160b-47ee-9fe2-c345fc9458f5",
   "metadata": {},
   "source": [
    "# 6. Развертывание Docker-контейнера на Удаленном Сервере\n",
    "\n",
    "*   **Задача:** Запустить наш Docker-контейнер с API на удаленном сервере, чтобы сделать его доступным извне (например, для других сервисов или для демонстрации).\n",
    "*   **Подход:** Мы будем использовать Docker Hub (или другой container registry) как промежуточное хранилище для нашего Docker-образа. Мы загрузим (\"push\") наш локально собранный образ в Docker Hub, а затем скачаем (\"pull\") его на удаленном сервере и запустим.\n",
    "*   **Пререквизиты:**\n",
    "    1.  **Удаленный сервер:** Доступ по SSH к Linux-серверу (например, VPS от DigitalOcean, Vultr, Linode, AWS EC2, Google Cloud VM, или ваш собственный сервер).\n",
    "    2.  **Docker на сервере:** На удаленном сервере должен быть установлен Docker Engine. Инструкции по установке обычно есть в документации вашего хостинг-провайдера или на официальном сайте Docker ([https://docs.docker.com/engine/install/](https://docs.docker.com/engine/install/)). Проверить установку можно командой `docker --version` на сервере.\n",
    "    3.  **Docker Hub Аккаунт:** Зарегистрированный аккаунт на [https://hub.docker.com/](https://hub.docker.com/). Это бесплатно для публичных репозиториев. Запомните ваш Docker Hub ID (имя пользователя).\n",
    "    4.  **(Опционально) Firewall:** Убедитесь, что firewall на вашем сервере разрешает входящие соединения на порт, который вы собираетесь использовать (в нашем случае, порт 8000/tcp). Настройка зависит от ОС и конфигурации сервера (например, `ufw allow 8000/tcp` для UFW в Ubuntu)."
   ]
  },
  {
   "cell_type": "markdown",
   "id": "8dffa7e5-ecd6-4b59-bed2-8272748df668",
   "metadata": {},
   "source": [
    "## 6.1 Загрузка Образа в Docker Hub (Локально)\n",
    "\n",
    "Сначала нам нужно \"отправить\" наш локально собранный образ `taxi-predictor-api:latest` в ваш репозиторий на Docker Hub."
   ]
  },
  {
   "cell_type": "markdown",
   "id": "edd6a856-a76e-477c-a7c1-1cb2812f2548",
   "metadata": {
    "tags": []
   },
   "source": [
    "1.  **Войдите в Docker Hub из терминала:**\n"
   ]
  },
  {
   "cell_type": "code",
   "execution_count": null,
   "id": "a4aaf2dc-621e-4e77-b1e3-369d0c791711",
   "metadata": {},
   "outputs": [],
   "source": [
    "docker login\n",
    "    # Вам будет предложено ввести ваш Docker Hub ID и пароль (или токен доступа)\n",
    "    ```\n",
    "    При успешном входе вы увидите сообщение \"Login Succeeded\"."
   ]
  },
  {
   "cell_type": "markdown",
   "id": "1ae7b3fb-7c20-49c9-b1e3-82dbaeea3ac3",
   "metadata": {},
   "source": [
    "2.  **Переименуйте (тегируйте) образ:** \n",
    "\n",
    "Образы в Docker Hub должны иметь префикс вашего Docker Hub ID. Используем команду `docker tag`.\n",
    "    ```bash\n",
    "    Замените 'ваш_dockerhub_id' на ваш реальный ID в Docker Hub\n",
    "    docker tag taxi-predictor-api:latest ваш_dockerhub_id/taxi-predictor-api:latest"
   ]
  },
  {
   "cell_type": "code",
   "execution_count": null,
   "id": "4a457a93-4ef8-4562-9997-3862967a15bf",
   "metadata": {},
   "outputs": [],
   "source": [
    " Проверьте, что появился новый тег"
   ]
  },
  {
   "cell_type": "markdown",
   "id": "e75d300e-adb2-48c6-b528-887b7d779f1d",
   "metadata": {},
   "source": [
    " docker images | grep taxi-predictor-api\n",
    "    # Вы должны увидеть две строки: \n",
    "    # ваш_dockerhub_id/taxi-predictor-api   latest    <image_id>   ...\n",
    "    # taxi-predictor-api                   latest    <image_id>   ... \n",
    "    ```"
   ]
  },
  {
   "cell_type": "markdown",
   "id": "e23001a1-18d0-4d1a-8b99-0ed9879ded64",
   "metadata": {},
   "source": [
    "3.  **Загрузите образ в Docker Hub:**\n"
   ]
  },
  {
   "cell_type": "code",
   "execution_count": null,
   "id": "c34231d9-45e8-4820-9faf-fb2980b1a4ca",
   "metadata": {},
   "outputs": [],
   "source": [
    "# Замените 'ваш_dockerhub_id' на ваш реальный ID в Docker Hub\n",
    "    docker push ваш_dockerhub_id/taxi-predictor-api:latest"
   ]
  },
  {
   "cell_type": "code",
   "execution_count": null,
   "id": "54948c7d-18d6-49de-9eea-fc7788b9ac4e",
   "metadata": {},
   "outputs": [],
   "source": [
    " Начнется процесс загрузки слоев образа в Docker Hub. Это может занять некоторое время в зависимости от размера образа и скорости вашего интернета. После завершения вы можете зайти на сайт Docker Hub и увидеть новый репозиторий `taxi-predictor-api` в вашем профиле."
   ]
  },
  {
   "cell_type": "markdown",
   "id": "93a33ed0-ee4d-49ba-8b21-7dedc9479598",
   "metadata": {},
   "source": [
    "    *Альтернатива:* Если вы не хотите использовать Docker Hub (например, для приватных проектов без платного аккаунта), можно сохранить образ в архив (`docker save -o image.tar ваш_dockerhub_id/taxi-predictor-api:latest`), скопировать архив на сервер (например, через `scp image.tar пользователь@адрес_сервера:~/`) и загрузить его на сервере (`docker load -i image.tar`). Но использование registry (как Docker Hub) обычно удобнее.\n"
   ]
  },
  {
   "cell_type": "markdown",
   "id": "7c30fca6-97e6-4402-9547-f2e0a6509bf2",
   "metadata": {},
   "source": [
    "## 6.2 Подключение к Серверу и Загрузка Образа (На Сервере)\n"
   ]
  },
  {
   "cell_type": "markdown",
   "id": "3642efb5-df64-440a-b7f2-57529862cbad",
   "metadata": {},
   "source": [
    "1.  **Подключитесь к серверу по SSH:**\n"
   ]
  },
  {
   "cell_type": "code",
   "execution_count": null,
   "id": "50e4cfe0-36e6-4f2f-a069-421e60dbc5fc",
   "metadata": {},
   "outputs": [],
   "source": [
    "    ssh пользователь@адрес_сервера \n"
   ]
  },
  {
   "cell_type": "markdown",
   "id": "95fdb815-e95f-43d6-bad6-5a345b8038ae",
   "metadata": {},
   "source": [
    "2.  **Скачайте образ из Docker Hub:**\n"
   ]
  },
  {
   "cell_type": "code",
   "execution_count": null,
   "id": "10fe9560-d5aa-420b-833b-51a8aebfbdcb",
   "metadata": {},
   "outputs": [],
   "source": [
    "Замените 'ваш_dockerhub_id' на ваш реальный ID в Docker Hub\n",
    "    docker pull ваш_dockerhub_id/taxi-predictor-api:latest\n",
    "    ```\n",
    "    Docker на сервере скачает образ из вашего репозитория Docker Hub."
   ]
  },
  {
   "cell_type": "markdown",
   "id": "f1cd819c-c73a-4c42-9d34-faf55fad9076",
   "metadata": {},
   "source": [
    "3.  **Проверьте, что образ скачался:**\n"
   ]
  },
  {
   "cell_type": "code",
   "execution_count": null,
   "id": "e383da17-d0c3-4db9-9234-37f198300e42",
   "metadata": {},
   "outputs": [],
   "source": [
    "    docker images | grep taxi-predictor-api\n"
   ]
  },
  {
   "cell_type": "markdown",
   "id": "534707cb-c13d-4c74-9b30-a8f6d2b537f5",
   "metadata": {},
   "source": [
    "## 6.3 Запуск Контейнера на Сервере\n"
   ]
  },
  {
   "cell_type": "code",
   "execution_count": null,
   "id": "b495ee08-5f70-4fdd-986f-6926f5cfe7ef",
   "metadata": {},
   "outputs": [],
   "source": [
    " Выполните команду на удаленном сервере\n",
    "\n",
    "# Проверьте, не занят ли порт 8000 на сервере (например, командой `ss -tulnp | grep 8000`)\n",
    "# Если порт занят, либо остановите сервис, который его использует, \n",
    "# либо выберите другой порт хоста для маппинга (например, -p 8080:8000)\n",
    "\n",
    "# Запускаем контейнер в фоновом режиме (-d)\n",
    "# Пробрасываем порт 8000 сервера на порт 8000 контейнера (-p 8000:8000)\n",
    "# Даем имя контейнеру (--name running_taxi_api)\n",
    "# Указываем имя образа для запуска\n",
    "docker run -d -p 8000:8000 --name running_taxi_api ваш_dockerhub_id/taxi-predictor-api:latest"
   ]
  },
  {
   "cell_type": "code",
   "execution_count": null,
   "id": "bfb11de7-2b26-4fb4-ba20-fbab1c388089",
   "metadata": {},
   "outputs": [],
   "source": [
    "# Выполните команду на удаленном сервере\n",
    "docker ps | grep running_taxi_api"
   ]
  },
  {
   "cell_type": "markdown",
   "id": "76800325-8703-4e81-b69b-ce34d89413f6",
   "metadata": {},
   "source": [
    "## 6.5 Завершение Работы на Сервере\n",
    "Просмотр логов: docker logs running_taxi_api\n",
    "Остановка контейнера: docker stop running_taxi_api\n",
    "Удаление контейнера: docker rm running_taxi_api\n",
    "Выход из SSH сессии: exit"
   ]
  },
  {
   "cell_type": "markdown",
   "id": "31b54ad8-d56e-4c93-bdfb-db6cbd27d468",
   "metadata": {},
   "source": [
    "# 7. Заключение и Следующие Шаги\n",
    "\n",
    "*   **Подведение итогов:** Мы успешно прошли все ключевые этапы:\n",
    "    *   Сгенерировали данные и создали базу SQLite.\n",
    "    *   Провели анализ и обучили модель в Jupyter Notebook.\n",
    "    *   Сохранили артефакты модели (модель и препроцессор).\n",
    "    *   Создали API с FastAPI для доступа к модели.\n",
    "    *   Разработали интерактивный дашборд на Streamlit для взаимодействия с API.\n",
    "    *   Упаковали API в Docker-контейнер.\n",
    "    *   Развернули контейнер с API на удаленном сервере.\n",
    "    *   Использовали Git для контроля версий на каждом этапе.\n",
    "*   **Ключевые выводы:**\n",
    "    *   Понимание полного жизненного цикла DS-проекта, даже в упрощенном виде.\n",
    "    *   Важность разделения этапов (анализ, API, интерфейс).\n",
    "    *   Польза инструментов вроде FastAPI, Streamlit, Docker для быстрой разработки и развертывания.\n",
    "    *   Необходимость правильной обработки артефактов (модели, препроцессоры).\n",
    "    *   Основы контейнеризации и ее преимущества.\n",
    "*   **Возможные улучшения и следующие шаги:**\n",
    "    *   **Улучшение Модели:** Использовать более сложные модели, провести более тщательный Feature Engineering и подбор гиперпараметров.\n",
    "    *   **Тестирование:** Написать Unit-тесты для кода API (например, с помощью `pytest` и `httpx`), возможно, интеграционные тесты.\n",
    "    *   **CI/CD:** Настроить конвейер непрерывной интеграции и доставки (например, с помощью GitHub Actions или GitLab CI) для автоматической сборки, тестирования и развертывания Docker-образа при изменениях в коде.\n",
    "    *   **Docker Compose:** Использовать Docker Compose для одновременного запуска и управления несколькими связанными контейнерами (например, API, база данных (если бы она была не SQLite), дашборд Streamlit).\n",
    "    *   **HTTPS:** Настроить безопасное соединение HTTPS для API на сервере (часто делается с помощью обратного прокси, например, Nginx или Traefik, который также может обрабатывать SSL-сертификаты, например, от Let's Encrypt).\n",
    "    *   **Мониторинг и Логирование:** Настроить сбор метрик (например, с Prometheus и Grafana) и централизованное логирование (например, ELK stack или Loki) для API в продакшене.\n",
    "    *   **Управление Артефактами:** Использовать инструменты вроде MLflow или DVC для отслеживания экспериментов, версионирования моделей и данных. Хранить большие артефакты в облачных хранилищах (S3, GCS, Azure Blob Storage).\n",
    "    *   **Развертывание Дашборда:** Упаковать Streamlit дашборд в свой Docker-контейнер и развернуть его рядом с API на сервере.\n",
    "    *   **Оркестрация:** Для более сложных приложений рассмотреть использование оркестраторов контейнеров, таких как Kubernetes."
   ]
  },
  {
   "cell_type": "code",
   "execution_count": null,
   "id": "56c530de-a139-4c8e-ae72-67e5357d5684",
   "metadata": {},
   "outputs": [],
   "source": []
  },
  {
   "cell_type": "code",
   "execution_count": null,
   "id": "f2cb7c2a-efe0-41d7-a595-aef967999780",
   "metadata": {},
   "outputs": [],
   "source": []
  }
 ],
 "metadata": {
  "kernelspec": {
   "display_name": "Python 3 (ipykernel)",
   "language": "python",
   "name": "python3"
  },
  "language_info": {
   "codemirror_mode": {
    "name": "ipython",
    "version": 3
   },
   "file_extension": ".py",
   "mimetype": "text/x-python",
   "name": "python",
   "nbconvert_exporter": "python",
   "pygments_lexer": "ipython3",
   "version": "3.10.10"
  }
 },
 "nbformat": 4,
 "nbformat_minor": 5
}
