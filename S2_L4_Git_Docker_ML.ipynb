{
 "cells": [
  {
   "cell_type": "markdown",
   "id": "d233b6cb-4558-4f85-b604-1e35de63b05f",
   "metadata": {},
   "source": [
    "# От данных к ML-продукту"
   ]
  },
  {
   "cell_type": "markdown",
   "id": "64f08694-1331-4ee1-826d-46e1cc30c6f1",
   "metadata": {},
   "source": []
  },
  {
   "cell_type": "markdown",
   "id": "7182eb03-3f9e-4e03-b7b1-e308bdd0c9e0",
   "metadata": {},
   "source": []
  },
  {
   "cell_type": "markdown",
   "id": "267d4cf2-69b1-4d20-af3b-751fc9c097fa",
   "metadata": {},
   "source": []
  },
  {
   "cell_type": "markdown",
   "id": "ebf107e1-b770-467d-8687-5bbdadbdf421",
   "metadata": {},
   "source": []
  },
  {
   "cell_type": "markdown",
   "id": "02403786-94c4-43da-9081-a6bc29c0f59a",
   "metadata": {},
   "source": []
  },
  {
   "cell_type": "markdown",
   "id": "2a67193f-92c4-455f-ba9f-373ecac17722",
   "metadata": {},
   "source": []
  },
  {
   "cell_type": "markdown",
   "id": "3c07f63c-75a5-4882-80d7-265c0bd40757",
   "metadata": {},
   "source": []
  },
  {
   "cell_type": "markdown",
   "id": "c7d082b7-d8ef-4e94-8d73-1dae52428332",
   "metadata": {},
   "source": []
  },
  {
   "cell_type": "markdown",
   "id": "41c5fa50-79a2-4bca-81cd-dd493a734bcd",
   "metadata": {},
   "source": []
  },
  {
   "cell_type": "markdown",
   "id": "334f0d16-c264-4209-9755-11a143fedbdf",
   "metadata": {},
   "source": []
  },
  {
   "cell_type": "markdown",
   "id": "f2a23cf2-b996-410f-866f-7e111b50de78",
   "metadata": {},
   "source": []
  }
 ],
 "metadata": {
  "kernelspec": {
   "display_name": "Python 3 (ipykernel)",
   "language": "python",
   "name": "python3"
  },
  "language_info": {
   "codemirror_mode": {
    "name": "ipython",
    "version": 3
   },
   "file_extension": ".py",
   "mimetype": "text/x-python",
   "name": "python",
   "nbconvert_exporter": "python",
   "pygments_lexer": "ipython3",
   "version": "3.10.10"
  }
 },
 "nbformat": 4,
 "nbformat_minor": 5
}
